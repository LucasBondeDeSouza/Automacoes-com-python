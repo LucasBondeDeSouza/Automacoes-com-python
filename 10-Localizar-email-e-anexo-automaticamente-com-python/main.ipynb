{
 "cells": [
  {
   "cell_type": "code",
   "execution_count": 13,
   "id": "8b425ca4",
   "metadata": {},
   "outputs": [],
   "source": [
    "from imap_tools import MailBox, AND\n",
    "\n",
    "usuario = \"bondelucas77@gmail.com\"\n",
    "senha = \"xkajodwpmkjcbcaz\"\n",
    "\n",
    "meu_email = MailBox(\"imap.gmail.com\").login(usuario, senha)"
   ]
  },
  {
   "cell_type": "code",
   "execution_count": 14,
   "id": "57d7c0ea",
   "metadata": {},
   "outputs": [
    {
     "name": "stdout",
     "output_type": "stream",
     "text": [
      "Estou compartilhando o arquivo 'Atividade 3E.M' com você\n",
      "\n",
      "\n",
      "Estou compartilhando o arquivo 'How old was Sahah when she started doing judo' com você\n",
      "\n",
      "\n",
      "Dólar está hoje abaixo de R$5.20\n",
      "\n",
      "Relatorio Excel de Vendas\n",
      "Prezados,\n",
      "\n",
      "Segue em anexo o relatório de vendas de outubro.\n",
      "\n",
      "Att.\n",
      "Lucas\n",
      "\n"
     ]
    }
   ],
   "source": [
    "# Pegar emails que foram enviados por um remetente específico\n",
    "\n",
    "lista_emails = meu_email.fetch(AND(from_=\"bondelucas77@gmail.com\"))\n",
    "\n",
    "for email in lista_emails:\n",
    "    print(email.subject)\n",
    "    print(email.text)"
   ]
  },
  {
   "cell_type": "code",
   "execution_count": 15,
   "id": "488fdc85",
   "metadata": {},
   "outputs": [],
   "source": [
    "# Pegar anexo de um email\n",
    "\n",
    "lista_emails = meu_email.fetch(AND(from_=\"bondelucas77@gmail.com\"))\n",
    "for email in lista_emails:\n",
    "    if len(email.attachments) > 0:\n",
    "        for anexo in email.attachments:\n",
    "            if \"RelatorioExcel\" in anexo.filename:\n",
    "                informacoes_anexo = anexo.payload\n",
    "                with open(\"RelatorioExcel.xlsx\", \"wb\") as arquivo_excel:\n",
    "                    arquivo_excel.write(informacoes_anexo)"
   ]
  }
 ],
 "metadata": {
  "kernelspec": {
   "display_name": "3.10.9",
   "language": "python",
   "name": "python3"
  },
  "language_info": {
   "codemirror_mode": {
    "name": "ipython",
    "version": 3
   },
   "file_extension": ".py",
   "mimetype": "text/x-python",
   "name": "python",
   "nbconvert_exporter": "python",
   "pygments_lexer": "ipython3",
   "version": "3.10.9"
  }
 },
 "nbformat": 4,
 "nbformat_minor": 5
}
