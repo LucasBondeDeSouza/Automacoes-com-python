{
 "cells": [
  {
   "cell_type": "code",
   "execution_count": 8,
   "id": "4f359349",
   "metadata": {},
   "outputs": [
    {
     "name": "stdout",
     "output_type": "stream",
     "text": [
      "WhatsApp Image 2025-04-22 at 12.12.36.jpeg\n"
     ]
    }
   ],
   "source": [
    "import os\n",
    "\n",
    "caminho = \"C://Users/mariaapsouza/Downloads\"\n",
    "lista_arquivos = os.listdir(caminho)\n",
    "\n",
    "lista_datas = []\n",
    "for arquivo in lista_arquivos:\n",
    "    # Descobrir a data desse arquivo\n",
    "    data = os.path.getmtime(f\"{caminho}/{arquivo}\")\n",
    "    lista_datas.append((data, arquivo))\n",
    "\n",
    "lista_datas.sort(reverse=True)\n",
    "ultimo_arquivo = lista_datas[0]\n",
    "print(ultimo_arquivo[1])"
   ]
  }
 ],
 "metadata": {
  "kernelspec": {
   "display_name": "3.10.9",
   "language": "python",
   "name": "python3"
  },
  "language_info": {
   "codemirror_mode": {
    "name": "ipython",
    "version": 3
   },
   "file_extension": ".py",
   "mimetype": "text/x-python",
   "name": "python",
   "nbconvert_exporter": "python",
   "pygments_lexer": "ipython3",
   "version": "3.10.9"
  }
 },
 "nbformat": 4,
 "nbformat_minor": 5
}
