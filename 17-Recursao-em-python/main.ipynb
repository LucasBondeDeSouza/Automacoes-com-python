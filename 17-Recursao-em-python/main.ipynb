{
 "cells": [
  {
   "cell_type": "markdown",
   "id": "d8b2c0bb",
   "metadata": {},
   "source": [
    "<h1>Recursão em Python</h1>\n",
    "\n",
    "<p>Desafio: Backup do sistema de vendas</p>"
   ]
  },
  {
   "cell_type": "code",
   "execution_count": 12,
   "id": "f6b6e9fe",
   "metadata": {},
   "outputs": [
    {
     "name": "stdout",
     "output_type": "stream",
     "text": [
      "72\n"
     ]
    }
   ],
   "source": [
    "meses_sistema = [\"jan2022\",\"fev2022\",\"mar2022\",\"abr2022\",\"mai2022\",\"jun2022\",\"jul2022\",\"ago2022\",\"set2022\",\"out2022\",\"nov2022\",\"dez2022\",\"jan2021\",\"fev2021\",\"mar2021\",\"abr2021\",\"mai2021\",\"jun2021\",\"jul2021\",\"ago2021\",\"set2021\",\"out2021\",\"nov2021\",\"dez2021\",\"jan2020\",\"fev2020\",\"mar2020\",\"abr2020\",\"mai2020\",\"jun2020\",\"jul2020\",\"ago2020\",\"set2020\",\"out2020\",\"nov2020\",\"dez2020\",\"jan2019\",\"fev2019\",\"mar2019\",\"abr2019\",\"mai2019\",\"jun2019\",\"jul2019\",\"ago2019\",\"set2019\",\"out2019\",\"nov2019\",\"dez2019\",\"jan2018\",\"fev2018\",\"mar2018\",\"abr2018\",\"mai2018\",\"jun2018\",\"jul2018\",\"ago2018\",\"set2018\",\"out2018\",\"nov2018\",\"dez2018\",\"jan2017\",\"fev2017\",\"mar2017\",\"abr2017\",\"mai2017\",\"jun2017\",\"jul2017\",\"ago2017\",\"set2017\",\"out2017\",\"nov2017\",\"dez2017\"]\n",
    "print(len(meses_sistema))"
   ]
  },
  {
   "cell_type": "code",
   "execution_count": 15,
   "id": "1583560c",
   "metadata": {},
   "outputs": [],
   "source": [
    "import os\n",
    "\n",
    "arquivos_extraidos = []\n",
    "\n",
    "def pegar_arquivo_pasta(pasta):\n",
    "    lista_arquivos = os.listdir(pasta)\n",
    "    # Se tiver 'txt' e 'vendas' no nome do arquivo então eu vou pegar o nome do mês\n",
    "    for arquivo in lista_arquivos:\n",
    "        if '.txt' in arquivo and 'Vendas' in arquivo:\n",
    "            # Pegar o nome do mês\n",
    "            nome_mes = arquivo.split()[-1].replace(\".txt\", \"\")\n",
    "            arquivos_extraidos.append(nome_mes)\n",
    "        elif \".txt\" not in arquivo: # Se for uma pasta\n",
    "            pegar_arquivo_pasta(f'{pasta}/{arquivo}')"
   ]
  },
  {
   "cell_type": "code",
   "execution_count": 16,
   "id": "c174a244",
   "metadata": {},
   "outputs": [],
   "source": [
    "pegar_arquivo_pasta(\"Arquivos\")"
   ]
  },
  {
   "cell_type": "code",
   "execution_count": 17,
   "id": "82d2add7",
   "metadata": {},
   "outputs": [
    {
     "name": "stdout",
     "output_type": "stream",
     "text": [
      "['abr2019', 'ago2019', 'dez2019', 'fev2019', 'jan2019', 'jul2019', 'jun2019', 'mai2019', 'nov2019', 'set2019', 'abr2020', 'dez2020', 'fev2020', 'jan2020', 'jul2020', 'jun2020', 'mai2020', 'mar2020', 'nov2020', 'out2020', 'set2020', 'abr2021', 'ago2021', 'dez2021', 'fev2021', 'jan2021', 'jun2021', 'mai2021', 'nov2021', 'out2021', 'set2021', 'abr2018', 'ago2018', 'dez2018', 'fev2018', 'jan2018', 'jul2018', 'jun2018', 'mai2018', 'mar2018', 'nov2018', 'out2018', 'set2018', 'ago2017', 'dez2017', 'fev2017', 'jan2017', 'jul2017', 'jun2017', 'mai2017', 'mar2017', 'nov2017', 'out2017', 'set2017', 'abr2022', 'ago2022', 'dez2022', 'fev2022', 'jan2022', 'jul2022', 'jun2022', 'mai2022', 'mar2022', 'nov2022', 'out2022', 'set2022']\n"
     ]
    }
   ],
   "source": [
    "print(arquivos_extraidos)"
   ]
  },
  {
   "cell_type": "code",
   "execution_count": 18,
   "id": "8ac678e2",
   "metadata": {},
   "outputs": [
    {
     "name": "stdout",
     "output_type": "stream",
     "text": [
      "mar2021\n",
      "jul2021\n",
      "ago2020\n",
      "mar2019\n",
      "out2019\n",
      "abr2017\n"
     ]
    }
   ],
   "source": [
    "for mes in meses_sistema:\n",
    "    if mes not in arquivos_extraidos:\n",
    "        print(mes)"
   ]
  }
 ],
 "metadata": {
  "kernelspec": {
   "display_name": "3.10.9",
   "language": "python",
   "name": "python3"
  },
  "language_info": {
   "codemirror_mode": {
    "name": "ipython",
    "version": 3
   },
   "file_extension": ".py",
   "mimetype": "text/x-python",
   "name": "python",
   "nbconvert_exporter": "python",
   "pygments_lexer": "ipython3",
   "version": "3.10.9"
  }
 },
 "nbformat": 4,
 "nbformat_minor": 5
}
