{
 "cells": [
  {
   "cell_type": "markdown",
   "id": "c5f7f2a3",
   "metadata": {},
   "source": [
    "<h1>Pegar Cotações do Yahoo Finance com Python</h1>\n",
    "\n",
    "<ul>\n",
    "    <li>pandas_datareader</li>\n",
    "    <li>yfinance</li>\n",
    "</ul>"
   ]
  },
  {
   "cell_type": "code",
   "execution_count": 8,
   "id": "3de27d70",
   "metadata": {},
   "outputs": [],
   "source": [
    "import pandas as pd\n",
    "import pandas_datareader.data as pdr\n",
    "import yfinance as yf"
   ]
  },
  {
   "cell_type": "code",
   "execution_count": null,
   "id": "7e1c4c88",
   "metadata": {},
   "outputs": [],
   "source": [
    "ativos = [\"ITUB3.SA\", \"VALE3.SA\", \"PETR3.SA\", \"^BVSP\"]\n",
    "\n",
    "data_inicial = \"2023-01-01\"\n",
    "data_final = \"2023-06-30\"\n",
    "\n",
    "tabela_cotacoes = yf.download(ativos, start=data_inicial, end=data_final)['Close']\n",
    "\n",
    "display(tabela_cotacoes)"
   ]
  }
 ],
 "metadata": {
  "kernelspec": {
   "display_name": "3.10.9",
   "language": "python",
   "name": "python3"
  },
  "language_info": {
   "codemirror_mode": {
    "name": "ipython",
    "version": 3
   },
   "file_extension": ".py",
   "mimetype": "text/x-python",
   "name": "python",
   "nbconvert_exporter": "python",
   "pygments_lexer": "ipython3",
   "version": "3.10.9"
  }
 },
 "nbformat": 4,
 "nbformat_minor": 5
}
