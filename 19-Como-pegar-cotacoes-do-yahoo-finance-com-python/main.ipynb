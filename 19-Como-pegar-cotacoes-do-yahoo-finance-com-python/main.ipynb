{
 "cells": [
  {
   "cell_type": "markdown",
   "id": "c5f7f2a3",
   "metadata": {},
   "source": [
    "<h1>Pegar Cotações do Yahoo Finance com Python</h1>\n",
    "\n",
    "<ul>\n",
    "    <li>pandas_datareader</li>\n",
    "    <li>yfinance</li>\n",
    "</ul>"
   ]
  }
 ],
 "metadata": {
  "kernelspec": {
   "display_name": "3.10.9",
   "language": "python",
   "name": "python3"
  },
  "language_info": {
   "name": "python",
   "version": "3.10.9"
  }
 },
 "nbformat": 4,
 "nbformat_minor": 5
}
