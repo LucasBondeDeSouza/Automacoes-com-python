{
 "cells": [
  {
   "cell_type": "code",
   "execution_count": 9,
   "id": "ba520c16",
   "metadata": {},
   "outputs": [],
   "source": [
    "from selenium import webdriver\n",
    "from webdriver_manager.chrome import ChromeDriverManager\n",
    "from selenium.webdriver.chrome.service import Service\n",
    "\n",
    "servico = Service(ChromeDriverManager().install())\n",
    "\n",
    "navegador = webdriver.Chrome(service=servico)\n",
    "\n",
    "# Passo 1: Entrar no Site\n",
    "navegador.get(\"https://dlp.hashtagtreinamentos.com/python/intensivao/login\")\n",
    "\n",
    "# Passo 2: Preencher campos do formulário\n",
    "navegador.find_element('xpath', '//*[@id=\"email\"]').send_keys(\"user@gmail.com\")\n",
    "navegador.find_element('xpath', '//*[@id=\"password\"]').send_keys(\"user123\")\n",
    "\n",
    "# Passo 3: Clicar no botão para enviar o formulário\n",
    "navegador.find_element('xpath', '//*[@id=\"pgtpy-botao\"]').click()"
   ]
  }
 ],
 "metadata": {
  "kernelspec": {
   "display_name": "3.10.9",
   "language": "python",
   "name": "python3"
  },
  "language_info": {
   "codemirror_mode": {
    "name": "ipython",
    "version": 3
   },
   "file_extension": ".py",
   "mimetype": "text/x-python",
   "name": "python",
   "nbconvert_exporter": "python",
   "pygments_lexer": "ipython3",
   "version": "3.10.9"
  }
 },
 "nbformat": 4,
 "nbformat_minor": 5
}
