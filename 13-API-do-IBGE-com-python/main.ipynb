{
 "cells": [
  {
   "cell_type": "markdown",
   "id": "dd5af510",
   "metadata": {},
   "source": [
    "<h1>API IBGE</h1>\n",
    "<p>https://servicodados.ibge.gov.br/api/docs</p>"
   ]
  },
  {
   "cell_type": "code",
   "execution_count": 13,
   "id": "3c3a29f2",
   "metadata": {},
   "outputs": [
    {
     "name": "stdout",
     "output_type": "stream",
     "text": [
      "[{'localidade': {'id': '1',\n",
      "                 'nivel': {'id': 'N1', 'nome': 'Brasil'},\n",
      "                 'nome': 'Brasil'},\n",
      "  'serie': {'2014': '16645'}}]\n"
     ]
    }
   ],
   "source": [
    "import requests\n",
    "import pprint\n",
    "\n",
    "link = \"https://servicodados.ibge.gov.br/api/v3/agregados/7392/periodos/2014/variaveis/10484?localidades=N1[all]\"\n",
    "\n",
    "requisicao = requests.get(link)\n",
    "informacoes = requisicao.json()\n",
    "\n",
    "pprint.pprint(informacoes[0]['resultados'][0]['series'])\n",
    "\n",
    "item_busca = informacoes[0]['variavel'] # variavel\n",
    "resultados = informacoes[0]['resultados'][0]['series'] # series"
   ]
  },
  {
   "cell_type": "code",
   "execution_count": 14,
   "id": "4d8f3248",
   "metadata": {},
   "outputs": [
    {
     "name": "stdout",
     "output_type": "stream",
     "text": [
      "Número de espécies da fauna e da flora brasileira avaliadas quanto ao risco de extinção\n",
      "[{'localidade': {'id': '1', 'nivel': {'id': 'N1', 'nome': 'Brasil'}, 'nome': 'Brasil'}, 'serie': {'2014': '16645'}}]\n"
     ]
    }
   ],
   "source": [
    "print(item_busca)\n",
    "print(resultados)"
   ]
  }
 ],
 "metadata": {
  "kernelspec": {
   "display_name": "3.10.9",
   "language": "python",
   "name": "python3"
  },
  "language_info": {
   "codemirror_mode": {
    "name": "ipython",
    "version": 3
   },
   "file_extension": ".py",
   "mimetype": "text/x-python",
   "name": "python",
   "nbconvert_exporter": "python",
   "pygments_lexer": "ipython3",
   "version": "3.10.9"
  }
 },
 "nbformat": 4,
 "nbformat_minor": 5
}
