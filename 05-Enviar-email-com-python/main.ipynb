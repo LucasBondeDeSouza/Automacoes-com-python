{
 "cells": [
  {
   "cell_type": "code",
   "execution_count": 1,
   "id": "03d52d22",
   "metadata": {},
   "outputs": [],
   "source": [
    "import smtplib\n",
    "import email.message\n",
    "\n",
    "def enviar_email():\n",
    "    corpo_email = \"\"\"\n",
    "    <p>Olá Lucas</p>\n",
    "    <p>Segue meu email automático</p>\n",
    "    \"\"\"\n",
    "\n",
    "    msg = email.message.Message()\n",
    "    msg['Subject'] = 'Assunto'\n",
    "    msg['From'] = 'bondelucas77@gmail.com'\n",
    "    msg['To'] = 'lucasbonde08@gmail.com'\n",
    "    password = 'xkajodwpmkjcbcaz'\n",
    "    msg.add_header('Content-Type', 'text/html')\n",
    "    msg.set_payload(corpo_email)\n",
    "\n",
    "    s = smtplib.SMTP('smtp.gmail.com: 587')\n",
    "    s.starttls()\n",
    "    # Login credentials for sending the email\n",
    "    s.login(msg['From'], password)\n",
    "    s.sendmail(msg['From'], [msg['To']], msg.as_string().encode('utf-8'))\n",
    "    print('Email enviado')"
   ]
  },
  {
   "cell_type": "code",
   "execution_count": null,
   "id": "21c0bc3d",
   "metadata": {},
   "outputs": [],
   "source": [
    "enviar_email()"
   ]
  }
 ],
 "metadata": {
  "kernelspec": {
   "display_name": "3.10.9",
   "language": "python",
   "name": "python3"
  },
  "language_info": {
   "codemirror_mode": {
    "name": "ipython",
    "version": 3
   },
   "file_extension": ".py",
   "mimetype": "text/x-python",
   "name": "python",
   "nbconvert_exporter": "python",
   "pygments_lexer": "ipython3",
   "version": "3.10.9"
  }
 },
 "nbformat": 4,
 "nbformat_minor": 5
}
