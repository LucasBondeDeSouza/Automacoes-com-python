{
 "cells": [
  {
   "cell_type": "code",
   "execution_count": null,
   "id": "bb030d9d",
   "metadata": {},
   "outputs": [],
   "source": [
    "from chatterbot import ChatBot\n",
    "from chatterbot.trainers import ListTrainer\n",
    "from chatterbot import languages\n",
    "from spacy.cli import download\n",
    "\n",
    "download(\"en_core_web_sm\")"
   ]
  },
  {
   "cell_type": "code",
   "execution_count": null,
   "id": "cf171175",
   "metadata": {},
   "outputs": [],
   "source": [
    "chatbot = ChatBot(\"BotLucas\", tagger_language=languages.ENG)\n",
    "\n",
    "conversa = [\n",
    "    \"Coe\",\n",
    "    \"E aí, tranquilo?\",\n",
    "    \"Tranquilo\",\n",
    "    \"Qual a boa de hoje?\",\n",
    "    \"a Hashtag tá ensinando Python e até chatbot\",\n",
    "    \"Caraca ue doideira\",\n",
    "    \"Maneiro né?\",\n",
    "    \"Irado\"\n",
    "]\n",
    "\n",
    "trainer = ListTrainer(chatbot)\n",
    "trainer.train(conversa)"
   ]
  },
  {
   "cell_type": "code",
   "execution_count": null,
   "id": "8851dcda",
   "metadata": {},
   "outputs": [],
   "source": [
    "while True:\n",
    "    mensagem = input(\"Mande uma mensagem para o Chatbot:\")\n",
    "    if mensagem == \"parar\":\n",
    "        break\n",
    "    resposta = chatbot.get_response(mensagem)\n",
    "    print(resposta)"
   ]
  },
  {
   "cell_type": "code",
   "execution_count": null,
   "id": "16bb3947",
   "metadata": {},
   "outputs": [],
   "source": [
    "# Limpar o banco de dados\n",
    "chatbot.storage.drop()"
   ]
  }
 ],
 "metadata": {
  "kernelspec": {
   "display_name": "3.10.9",
   "language": "python",
   "name": "python3"
  },
  "language_info": {
   "codemirror_mode": {
    "name": "ipython",
    "version": 3
   },
   "file_extension": ".py",
   "mimetype": "text/x-python",
   "name": "python",
   "nbconvert_exporter": "python",
   "pygments_lexer": "ipython3",
   "version": "3.10.9"
  }
 },
 "nbformat": 4,
 "nbformat_minor": 5
}
