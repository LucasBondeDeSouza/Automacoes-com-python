{
 "cells": [
  {
   "cell_type": "markdown",
   "id": "ebcecaa3",
   "metadata": {
    "vscode": {
     "languageId": "html"
    }
   },
   "source": [
    "<h1>Biblioteca OS</h1>"
   ]
  },
  {
   "cell_type": "code",
   "execution_count": 3,
   "id": "ce237a23",
   "metadata": {},
   "outputs": [
    {
     "name": "stdout",
     "output_type": "stream",
     "text": [
      "['Compras', 'Compras - AA987899.xlsx', 'Compras - AD321146.xlsx', 'Compras - EB192301.xlsx', 'Compras - EF545455.xlsx', 'main.ipynb', 'Vendas', 'Vendas - 1.xlsx', 'Vendas - 2.xlsx', 'Vendas - 3.xlsx', 'Vendas - 4.xlsx']\n"
     ]
    }
   ],
   "source": [
    "# Listar arquivos\n",
    "import os\n",
    "\n",
    "arquivos = os.listdir()\n",
    "print(arquivos)"
   ]
  },
  {
   "cell_type": "code",
   "execution_count": 2,
   "id": "e8e18557",
   "metadata": {},
   "outputs": [
    {
     "name": "stdout",
     "output_type": "stream",
     "text": [
      "c:\\Users\\mariaapsouza\\Desktop\\Automacoes-com-python\\12-Como-copiar-e-mover-arquivos-do-computador-com-python\n"
     ]
    }
   ],
   "source": [
    "# Caminho da pasta\n",
    "caminho = os.getcwd()\n",
    "print(caminho)"
   ]
  },
  {
   "cell_type": "code",
   "execution_count": null,
   "id": "5233f7f7",
   "metadata": {},
   "outputs": [],
   "source": [
    "# Renomear\n",
    "# os.rename('Vendas - 1.xlsx', 'Vendas 1.xlsx')\n",
    "\n",
    "# Mover\n",
    "os.rename('Vendas - 1.xlsx', 'Vendas/Vendas - 1.xlsx')"
   ]
  },
  {
   "cell_type": "code",
   "execution_count": null,
   "id": "8caf3667",
   "metadata": {},
   "outputs": [],
   "source": [
    "# Copiar arquivos\n",
    "import shutil\n",
    "\n",
    "shutil.copy('Vendas - 1.xlsx', 'Vendas/Vendas - 1.xlsx')"
   ]
  },
  {
   "cell_type": "markdown",
   "id": "53acdc84",
   "metadata": {},
   "source": [
    "<h1>Aplicação</h1>"
   ]
  },
  {
   "cell_type": "code",
   "execution_count": 9,
   "id": "71063a42",
   "metadata": {},
   "outputs": [],
   "source": [
    "lista_arquivos = os.listdir()\n",
    "\n",
    "for arquivo in lista_arquivos:\n",
    "    if 'xlsx' in arquivo:\n",
    "        if 'Compras' in arquivo:\n",
    "            # Jogar para a pasta de compras\n",
    "            os.rename(arquivo, f'Compras/{arquivo}')\n",
    "        elif \"Vendas\" in arquivo:\n",
    "            # Jogar para a pasta de vendas\n",
    "            os.rename(arquivo, f'Vendas/{arquivo}')"
   ]
  }
 ],
 "metadata": {
  "kernelspec": {
   "display_name": "3.10.9",
   "language": "python",
   "name": "python3"
  },
  "language_info": {
   "codemirror_mode": {
    "name": "ipython",
    "version": 3
   },
   "file_extension": ".py",
   "mimetype": "text/x-python",
   "name": "python",
   "nbconvert_exporter": "python",
   "pygments_lexer": "ipython3",
   "version": "3.10.9"
  }
 },
 "nbformat": 4,
 "nbformat_minor": 5
}
