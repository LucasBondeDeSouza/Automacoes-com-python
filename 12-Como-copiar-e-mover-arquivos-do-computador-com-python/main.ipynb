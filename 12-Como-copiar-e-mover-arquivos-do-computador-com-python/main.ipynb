{
 "cells": [
  {
   "cell_type": "code",
   "execution_count": null,
   "id": "ebcecaa3",
   "metadata": {
    "vscode": {
     "languageId": "html"
    }
   },
   "outputs": [],
   "source": [
    "<h1>Biblioteca OS</h1>"
   ]
  },
  {
   "cell_type": "code",
   "execution_count": null,
   "id": "ce237a23",
   "metadata": {},
   "outputs": [],
   "source": [
    "# Listar arquivos"
   ]
  }
 ],
 "metadata": {
  "kernelspec": {
   "display_name": "3.10.9",
   "language": "python",
   "name": "python3"
  },
  "language_info": {
   "name": "python",
   "version": "3.10.9"
  }
 },
 "nbformat": 4,
 "nbformat_minor": 5
}
