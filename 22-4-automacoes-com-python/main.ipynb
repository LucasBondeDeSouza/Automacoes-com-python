{
 "cells": [
  {
   "cell_type": "markdown",
   "id": "bc094ef2",
   "metadata": {},
   "source": [
    "<h1>1. Automatização de E-mails</h1>"
   ]
  },
  {
   "cell_type": "code",
   "execution_count": null,
   "id": "b5b53248",
   "metadata": {},
   "outputs": [],
   "source": [
    "import smtplib\n",
    "from email.mime.multipart import MIMEMultipart\n",
    "from email.mime.text import MIMEText\n",
    "\n",
    "def enviar_email():\n",
    "    remetente = \"bondelucas77@gmail.com\"\n",
    "    senha = \"xkajodwpmkjcbcaz\"\n",
    "    destinatario = \"bondelucas77@gmail.com\"\n",
    "    assunto = \"Relatório de vendas do dia de hoje\"\n",
    "    corpo = \"Este é um email automático do relatório de vendas do dia de hoje. Batemos a meta\"\n",
    "\n",
    "    mensagem = MIMEMultipart()\n",
    "    mensagem[\"From\"] = remetente\n",
    "    mensagem[\"To\"] = destinatario\n",
    "    mensagem[\"Subject\"] = assunto\n",
    "    mensagem.attach(MIMEText(corpo, \"plain\"))\n",
    "\n",
    "    servidor = smtplib.SMTP(\"smtp.gmail.com\", 587)\n",
    "    servidor.starttls()\n",
    "    servidor.login(remetente, senha)\n",
    "    servidor.sendmail(remetente, destinatario, mensagem.as_string())\n",
    "    servidor.quit()\n",
    "    print(\"Email enviado com sucesso!\")\n",
    "\n",
    "enviar_email()"
   ]
  },
  {
   "cell_type": "markdown",
   "id": "d0718976",
   "metadata": {},
   "source": [
    "<h1>2. Automatização de Arquivos (Renomeação e Organização)</h1>"
   ]
  },
  {
   "cell_type": "code",
   "execution_count": null,
   "id": "b050d01f",
   "metadata": {},
   "outputs": [],
   "source": [
    "import os\n",
    "\n",
    "def organizar_arquivos():\n",
    "    pasta = \"./arquivos\"\n",
    "    if not os.path.exists(pasta):\n",
    "        os.makedirs(pasta)\n",
    "\n",
    "    arquivos_pasta_atual = os.listdir(\".\")\n",
    "\n",
    "    for arquivo in arquivos_pasta_atual:\n",
    "        if \".txt\" in arquivo:\n",
    "            os.rename(arquivo, f\"{pasta}/{arquivo}\")\n",
    "    print(\"Arquivos organizados\")\n",
    "\n",
    "organizar_arquivos()"
   ]
  },
  {
   "cell_type": "markdown",
   "id": "1d2d98fe",
   "metadata": {},
   "source": [
    "<h1>3. Automatização no Excel (Atualizar uma Planilha)</h1>"
   ]
  },
  {
   "cell_type": "code",
   "execution_count": null,
   "id": "fe1c2859",
   "metadata": {},
   "outputs": [],
   "source": [
    "import openpyxl\n",
    "\n",
    "def atualizar_planilha():\n",
    "    workbook = openpyxl.load_workbook(\"dados.xlsx\")\n",
    "    aba = workbook.active\n",
    "    aba.append([\"Anna\", 35, \"Financeiro\"])\n",
    "    workbook.save(\"dados.xlsx\")\n",
    "    print(\"Planilha atualizada\")\n",
    "\n",
    "atualizar_planilha()"
   ]
  },
  {
   "cell_type": "markdown",
   "id": "8984dad3",
   "metadata": {},
   "source": [
    "<h1>4. Automatização de Web Scraping (Extração de Dados da Web)</h1>"
   ]
  },
  {
   "cell_type": "code",
   "execution_count": 6,
   "id": "28b1dc5e",
   "metadata": {},
   "outputs": [
    {
     "name": "stdout",
     "output_type": "stream",
     "text": [
      "Booze was banned to protect women—but it actually empowered them\n",
      "Here's what a solar tornado looks like\n",
      "Scientists find a royal Maya tomb filled with treasures\n",
      "Innovating to make childbirth safer for all\n",
      "Fireflies are flourishing in places you wouldn't expect\n",
      "Explore the elaborate tomb of Nefertari\n",
      "What this shipwreck teaches about the horrors of slavery\n",
      "Why Europe’s wine lovers are heading to the Peloponnese\n",
      "French presidents come here to unwind. You can too.\n",
      "Why you need to see this medieval-style German tournament\n",
      "Superpowers are real—these people are living proof\n",
      "How vampires became allergic to the sun\n",
      "Manhattanhenge is here. How to see New York City's best sunset.\n",
      "Take a road trip through New York’s Finger Lakes\n",
      "6 of the most unusual places to stay at U.S. national parks\n"
     ]
    }
   ],
   "source": [
    "from bs4 import BeautifulSoup\n",
    "import requests\n",
    "\n",
    "def extrair_informacoes_site():\n",
    "    url = \"https://www.nationalgeographic.com/latest-stories\"\n",
    "    headers = { \"User-Agent\": \"Mozilla/5.0\" }\n",
    "    requisicao = requests.get(url, headers=headers)\n",
    "\n",
    "    if requisicao.status_code == 200:\n",
    "        pagina = BeautifulSoup(requisicao.text, \"html.parser\")\n",
    "        titulos = pagina.find_all(class_=\"sr-only\")\n",
    "        for titulo in titulos:\n",
    "            print(titulo.text)\n",
    "\n",
    "extrair_informacoes_site()"
   ]
  }
 ],
 "metadata": {
  "kernelspec": {
   "display_name": "3.10.9",
   "language": "python",
   "name": "python3"
  },
  "language_info": {
   "codemirror_mode": {
    "name": "ipython",
    "version": 3
   },
   "file_extension": ".py",
   "mimetype": "text/x-python",
   "name": "python",
   "nbconvert_exporter": "python",
   "pygments_lexer": "ipython3",
   "version": "3.10.9"
  }
 },
 "nbformat": 4,
 "nbformat_minor": 5
}
