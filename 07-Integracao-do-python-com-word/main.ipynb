{
 "cells": [
  {
   "cell_type": "code",
   "execution_count": 5,
   "id": "23e3b224",
   "metadata": {},
   "outputs": [],
   "source": [
    "from docx import Document\n",
    "\n",
    "documento = Document(\"Contrato.docx\")\n",
    "\n",
    "for paragrafo in documento.paragraphs:\n",
    "    paragrafo.text = paragrafo.text.replace(\"XXXX\", \"Lira\")\n",
    "\n",
    "documento.save(\"Contrato - Lira.docx\")"
   ]
  },
  {
   "cell_type": "code",
   "execution_count": 9,
   "id": "a42ae393",
   "metadata": {},
   "outputs": [],
   "source": [
    "# Editar Contrato\n",
    "from docx import Document\n",
    "from datetime import datetime\n",
    "import pandas as pd\n",
    "\n",
    "tabela = pd.read_excel(\"Informações.xlsx\")\n",
    "\n",
    "for linha in tabela.index:\n",
    "    documento = Document(\"Contrato.docx\")\n",
    "\n",
    "    nome = tabela.loc[linha, \"Nome\"]\n",
    "    item1 = tabela.loc[linha, \"Item1\"]\n",
    "    item2 = tabela.loc[linha, \"Item2\"]\n",
    "    item3 = tabela.loc[linha, \"Item3\"]\n",
    "\n",
    "    referencias = {\n",
    "        \"XXXX\": nome,\n",
    "        \"YYYY\": item1,\n",
    "        \"ZZZZ\": item2,\n",
    "        \"WWWW\": item3,\n",
    "        \"DD\": str(datetime.now().day),\n",
    "        \"MM\": str(datetime.now().month),\n",
    "        \"AAAA\": str(datetime.now().year),\n",
    "    }\n",
    "\n",
    "    for paragrafo in documento.paragraphs:\n",
    "        for codigo in referencias:\n",
    "            paragrafo.text = paragrafo.text.replace(codigo, referencias[codigo])\n",
    "\n",
    "    documento.save(f\"Contrato - {nome}.docx\")"
   ]
  }
 ],
 "metadata": {
  "kernelspec": {
   "display_name": "3.10.9",
   "language": "python",
   "name": "python3"
  },
  "language_info": {
   "codemirror_mode": {
    "name": "ipython",
    "version": 3
   },
   "file_extension": ".py",
   "mimetype": "text/x-python",
   "name": "python",
   "nbconvert_exporter": "python",
   "pygments_lexer": "ipython3",
   "version": "3.10.9"
  }
 },
 "nbformat": 4,
 "nbformat_minor": 5
}
