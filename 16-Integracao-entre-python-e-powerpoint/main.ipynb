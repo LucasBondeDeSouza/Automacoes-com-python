{
 "cells": [
  {
   "cell_type": "markdown",
   "id": "12522c43",
   "metadata": {},
   "source": [
    "<h1>Criar PPT</h1>\n",
    "\n",
    "<p>python-pptx</p>\n",
    "\n",
    "<p>Documentação: https://python-pptx.readthedocs.io/en/latest/index.html</p>"
   ]
  },
  {
   "cell_type": "markdown",
   "id": "cad47113",
   "metadata": {},
   "source": [
    "<h1>Criar PPT baseado em Modelo</h1>"
   ]
  },
  {
   "cell_type": "code",
   "execution_count": null,
   "id": "6db96afc",
   "metadata": {},
   "outputs": [],
   "source": [
    "from pptx import Presentation\n",
    "\n",
    "apresentacao = Presentation()\n",
    "\n",
    "# Editar o ppt\n",
    "slide1 = apresentacao.slides.add_slide(apresentacao.slide_layouts[0]) # slide com titulo e subtitulo\n",
    "\n",
    "titulo = slide1.shapes.title\n",
    "subtitulo = slide1.placeholders[1]\n",
    "\n",
    "titulo.text = \"1º Slide do Lira\"\n",
    "subtitulo.text = \"Tamo criando ppt com Python\"\n",
    "\n",
    "# Salvar esse ppt\n",
    "apresentacao.save(\"MeuPPT.pptx\")"
   ]
  },
  {
   "cell_type": "markdown",
   "id": "97bea000",
   "metadata": {},
   "source": [
    "<h1>Criar PPT personalizados</h1>"
   ]
  },
  {
   "cell_type": "code",
   "execution_count": 6,
   "id": "383ee78c",
   "metadata": {},
   "outputs": [],
   "source": [
    "from pptx import Presentation\n",
    "from pptx.util import Inches, Pt\n",
    "\n",
    "apresentacao = Presentation()\n",
    "\n",
    "# Editar esse ppt\n",
    "slide = apresentacao.slides.add_slide(apresentacao.slide_layouts[6]) # slide em branco\n",
    "\n",
    "x = Inches(1)\n",
    "y = Inches(1)\n",
    "largura = Inches(2)\n",
    "altura = Inches(2)\n",
    "caixa_texto = slide.shapes.add_textbox(x, y, largura, altura)\n",
    "\n",
    "# 1º forma de editar uma caixa de texto\n",
    "caixa_texto.text = \"Vendas de Janeiro\"\n",
    "\n",
    "# 2º forma: Criar parágrafos\n",
    "text_frame = caixa_texto.text_frame\n",
    "paragrafo = text_frame.add_paragraph()\n",
    "paragrafo.text = \"R$10.000\"\n",
    "paragrafo.font.bold = True\n",
    "paragrafo.font.size = Pt(30)\n",
    "\n",
    "paragrafo = text_frame.add_paragraph()\n",
    "paragrafo.text = \"Produto mais vendido: IPhone\"\n",
    "\n",
    "# Salvar esse ppt\n",
    "apresentacao.save(\"MeuPPT2.pptx\")"
   ]
  },
  {
   "cell_type": "markdown",
   "id": "cea97477",
   "metadata": {},
   "source": [
    "<h1>Criar PPTs com Gráficos</h1>"
   ]
  },
  {
   "cell_type": "code",
   "execution_count": 15,
   "id": "47b76ff2",
   "metadata": {},
   "outputs": [],
   "source": [
    "from pptx import Presentation\n",
    "from pptx.util import Inches, Pt\n",
    "from pptx.chart.data import CategoryChartData\n",
    "from pptx.enum.chart import XL_CHART_TYPE\n",
    "\n",
    "apresentacao = Presentation()\n",
    "\n",
    "slide = apresentacao.slides.add_slide(apresentacao.slide_layouts[6]) # slide em branco\n",
    "\n",
    "# Crir o nosso gráfico\n",
    "produtos = [\"IPhone\", \"IPad\", \"AirPods\"] # Categorias (eixo x)\n",
    "vendas = [1500, 1000, 2000] # Série de dados (eixo y)\n",
    "\n",
    "x = Inches(1)\n",
    "y = Inches(1)\n",
    "largura = Inches(8)\n",
    "altura = Inches(6)\n",
    "\n",
    "dados_graficos = CategoryChartData()\n",
    "dados_graficos.categories = produtos \n",
    "dados_graficos.add_series(\"Vendas\", vendas)\n",
    "# Tipos de gráficos: https://python-pptx.readthedocs.io/en/Latest/api/enum/XLChartType.html#xlcharttype\n",
    "slide.shapes.add_chart(XL_CHART_TYPE.COLUMN_CLUSTERED, x, y, largura, altura, dados_graficos)\n",
    "\n",
    "# Salvar esse ppt\n",
    "apresentacao.save(\"MeuPPT3.pptx\")"
   ]
  }
 ],
 "metadata": {
  "kernelspec": {
   "display_name": "3.10.9",
   "language": "python",
   "name": "python3"
  },
  "language_info": {
   "codemirror_mode": {
    "name": "ipython",
    "version": 3
   },
   "file_extension": ".py",
   "mimetype": "text/x-python",
   "name": "python",
   "nbconvert_exporter": "python",
   "pygments_lexer": "ipython3",
   "version": "3.10.9"
  }
 },
 "nbformat": 4,
 "nbformat_minor": 5
}
