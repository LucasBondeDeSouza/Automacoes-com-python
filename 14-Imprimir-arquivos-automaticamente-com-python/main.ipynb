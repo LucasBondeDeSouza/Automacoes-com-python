{
 "cells": [
  {
   "cell_type": "code",
   "execution_count": null,
   "id": "09738681",
   "metadata": {},
   "outputs": [],
   "source": [
    "import win32print\n",
    "import win32api\n",
    "import os\n",
    "\n",
    "# Escolher qual impressora será usada\n",
    "lista_impressoras = win32print.EnumPrinters(2)\n",
    "impressora = lista_impressoras[4]\n",
    "\n",
    "win32print.SetDefaultPrinter(impressora[2])\n",
    "\n",
    "# Mandar imprimir todos os arquivos de uma pasta\n",
    "lista_arquivos = os.listdir(\"Imprimir\")\n",
    "\n",
    "for arquivo in lista_arquivos:\n",
    "    win32api.ShellExecute(0, \"print\", arquivo, None, \"Imprimir\", 0)"
   ]
  }
 ],
 "metadata": {
  "kernelspec": {
   "display_name": "3.10.9",
   "language": "python",
   "name": "python3"
  },
  "language_info": {
   "codemirror_mode": {
    "name": "ipython",
    "version": 3
   },
   "file_extension": ".py",
   "mimetype": "text/x-python",
   "name": "python",
   "nbconvert_exporter": "python",
   "pygments_lexer": "ipython3",
   "version": "3.10.9"
  }
 },
 "nbformat": 4,
 "nbformat_minor": 5
}
