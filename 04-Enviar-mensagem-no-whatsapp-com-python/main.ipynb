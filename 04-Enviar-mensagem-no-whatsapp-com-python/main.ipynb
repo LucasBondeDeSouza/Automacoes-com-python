{
 "cells": [
  {
   "cell_type": "code",
   "execution_count": null,
   "id": "269111ae",
   "metadata": {},
   "outputs": [],
   "source": [
    "from selenium import webdriver\n",
    "from selenium.webdriver.common.keys import Keys\n",
    "from selenium.webdriver.common.by import By\n",
    "import time\n",
    "\n",
    "navegador = webdriver.Chrome()\n",
    "navegador.get(\"https://web.whatsapp.com\")"
   ]
  },
  {
   "cell_type": "code",
   "execution_count": 6,
   "id": "404ab6e6",
   "metadata": {},
   "outputs": [],
   "source": [
    "# O Whatsapp já carregou\n",
    "import pandas as pd\n",
    "\n",
    "tabela = pd.read_excel(\"Envios.xlsx\")"
   ]
  },
  {
   "cell_type": "code",
   "execution_count": 7,
   "id": "5acf47cc",
   "metadata": {},
   "outputs": [],
   "source": [
    "import urllib\n",
    "import os\n",
    "\n",
    "for linha in tabela.index:\n",
    "    # Enviar uma mensagem para a pessoa\n",
    "    nome = tabela.loc[linha, \"nome\"]\n",
    "    mensagem = tabela.loc[linha, \"mensagem\"]\n",
    "    arquivo = tabela.loc[linha, \"arquivo\"]\n",
    "    telefone = tabela.loc[linha, \"telefone\"]\n",
    "\n",
    "    texto = mensagem.replace(\"fulano\", nome)\n",
    "    texto = urllib.parse.quote(texto)\n",
    "\n",
    "    # Entra no link para enviar a mensagem\n",
    "    link = f\"https://web.whatsapp.com/send?phone={telefone}&text={texto}\"\n",
    "    navegador.get(link)\n",
    "\n",
    "    # Espera a tela do whatsapp carregar -> Espera um elemento que só existe na tela já carregada aparecer\n",
    "    while len(navegador.find_elements(By.ID, 'side')) < 1:\n",
    "        time.sleep(1)\n",
    "    time.sleep(2)\n",
    "\n",
    "    navegador.find_element(By.XPATH, '//*[@id=\"main\"]/footer/div[1]/div/span/div/div[2]/div/div[4]/button/span').click()\n",
    "\n",
    "    if arquivo != \"N\":\n",
    "        caminho_completo = os.path.abspath(f\"arquivos/{arquivo}\")\n",
    "        navegador.find_element(By.XPATH, '//*[@id=\"main\"]/footer/div[1]/div/span/div/div[2]/div/div[1]/button/span').click()\n",
    "        navegador.find_element(By.XPATH, '//*[@id=\"app\"]/div/span[6]/div/ul/div/div/div[1]/li/div/input').send_keys(caminho_completo)\n",
    "        time.sleep(2)\n",
    "        navegador.find_element(By.XPATH, '//*[@id=\"app\"]/div/div[3]/div/div[2]/div[2]/span/div/div/div/div[2]/div/div[2]/div[2]/div/div/span').click()\n",
    "\n",
    "    time.sleep(5)"
   ]
  }
 ],
 "metadata": {
  "kernelspec": {
   "display_name": "3.10.9",
   "language": "python",
   "name": "python3"
  },
  "language_info": {
   "codemirror_mode": {
    "name": "ipython",
    "version": 3
   },
   "file_extension": ".py",
   "mimetype": "text/x-python",
   "name": "python",
   "nbconvert_exporter": "python",
   "pygments_lexer": "ipython3",
   "version": "3.10.9"
  }
 },
 "nbformat": 4,
 "nbformat_minor": 5
}
