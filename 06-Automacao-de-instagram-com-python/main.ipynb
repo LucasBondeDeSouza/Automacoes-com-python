{
 "cells": [
  {
   "cell_type": "code",
   "execution_count": 11,
   "id": "8e656dc3",
   "metadata": {},
   "outputs": [],
   "source": [
    "from selenium import webdriver\n",
    "from selenium.webdriver.common.by import By\n",
    "import time\n",
    "\n",
    "navegador = webdriver.Chrome()"
   ]
  },
  {
   "cell_type": "code",
   "execution_count": 12,
   "id": "4c91c678",
   "metadata": {},
   "outputs": [],
   "source": [
    "# Passo 1: Entrar no site do instagram\n",
    "navegador.get(\"https://www.instagram.com\")\n",
    "time.sleep(2)"
   ]
  },
  {
   "cell_type": "code",
   "execution_count": null,
   "id": "7179d7e8",
   "metadata": {},
   "outputs": [],
   "source": [
    "# Passo 2: Fazer login\n",
    "navegador.find_element(By.XPATH, '//*[@id=\"loginForm\"]/div[1]/div[1]/div/label/input').send_keys(\"email@gmail.com\")\n",
    "navegador.find_element(By.XPATH, '//*[@id=\"loginForm\"]/div[1]/div[2]/div/label/input').send_keys(\"senha123\")\n",
    "navegador.find_element(By.XPATH, '//*[@id=\"loginForm\"]/div[1]/div[3]/button').click()\n",
    "time.sleep(3)"
   ]
  },
  {
   "cell_type": "code",
   "execution_count": null,
   "id": "12956beb",
   "metadata": {},
   "outputs": [],
   "source": [
    "# Passo 3: Clicar no agora não do salvar informações de login\n",
    "navegador.find_element(By.XPATH, '//*[@id=\"react-root\"]/section/main/div/div/div/div/button').click()\n",
    "time.sleep(2)"
   ]
  },
  {
   "cell_type": "code",
   "execution_count": null,
   "id": "b4832678",
   "metadata": {},
   "outputs": [],
   "source": [
    "# Passo 4: Clicar no agora não da notificação\n",
    "navegador.find_element(By.XPATH, '/html/body/div[5]/div/div/div/div[3]/button[2]').click()\n",
    "time.sleep(1)"
   ]
  },
  {
   "cell_type": "code",
   "execution_count": null,
   "id": "a1a36c32",
   "metadata": {},
   "outputs": [],
   "source": [
    "# Passo 5: Clicar na barra de pesquisa\n",
    "navegador.find_element(By.XPATH, '//*[@id=\"mount_0_0_pJ\"]/div/div/div[2]/div/div/div[1]/div[1]/div[2]/div/div/div[1]/div/div[2]/div[2]/span/div/a/div/div/div/div/svg/path').click()"
   ]
  },
  {
   "cell_type": "code",
   "execution_count": null,
   "id": "d5b0b27f",
   "metadata": {},
   "outputs": [],
   "source": [
    "# Passo 6: Digitar hashtag programacao\n",
    "navegador.find_element(By.XPATH, '//*[@id=\"mount_0_0_pJ\"]/div/div/div[2]/div/div/div[1]/div[1]/div[2]/div/div/div[2]/div/div/div/div[2]/div/div/div[1]/div/div/input').send_keys(\"hashtag programacao\")\n",
    "time.sleep(1)"
   ]
  },
  {
   "cell_type": "code",
   "execution_count": null,
   "id": "1c900968",
   "metadata": {},
   "outputs": [],
   "source": [
    "# Passo 7: Clicar no perfil da hashtag programacao\n",
    "navegador.find_element(By.XPATH, '//*[@id=\"mount_0_0_pJ\"]/div/div/div[2]/div/div/div[1]/div[1]/div[2]/div/div/div[2]/div/div/div/div[2]/div/div/div[2]/div/a/div[1]/div/div/div[2]/div/div/div/span').click()\n",
    "time.sleep(2)"
   ]
  },
  {
   "cell_type": "code",
   "execution_count": null,
   "id": "addb924f",
   "metadata": {},
   "outputs": [],
   "source": [
    "# Passo 8: Clicar no botão de seguir\n",
    "navegador.find_element(By.XPATH, '//*[@id=\"mount_0_0_pJ\"]/div/div/div[2]/div/div/div[1]/div[2]/div/div[1]/section/main/div/header/section[2]/div/div/div[2]/div/div[1]/button/div/div').click()"
   ]
  }
 ],
 "metadata": {
  "kernelspec": {
   "display_name": "3.10.9",
   "language": "python",
   "name": "python3"
  },
  "language_info": {
   "codemirror_mode": {
    "name": "ipython",
    "version": 3
   },
   "file_extension": ".py",
   "mimetype": "text/x-python",
   "name": "python",
   "nbconvert_exporter": "python",
   "pygments_lexer": "ipython3",
   "version": "3.10.9"
  }
 },
 "nbformat": 4,
 "nbformat_minor": 5
}
